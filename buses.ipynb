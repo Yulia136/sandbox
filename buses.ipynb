{
 "cells": [
  {
   "cell_type": "code",
   "execution_count": 7,
   "metadata": {
    "scrolled": true
   },
   "outputs": [],
   "source": [
    "from scipy.stats import expon\n",
    "from scipy.stats import uniform\n",
    "import numpy as np\n",
    "import matplotlib\n",
    "%matplotlib inline\n",
    "import seaborn as sns\n",
    "from pylab import rcParams\n",
    "rcParams['figure.figsize']=10,5\n",
    "from scipy.special import binom\n",
    "import fractions\n",
    "import math"
   ]
  },
  {
   "cell_type": "code",
   "execution_count": 199,
   "metadata": {},
   "outputs": [
    {
     "data": {
      "text/plain": [
       "[[10, 5],\n",
       " [1, 10, 4],\n",
       " [2, 10, 3],\n",
       " [3, 10, 2],\n",
       " [4, 10, 1],\n",
       " [5, 10],\n",
       " [6, 9],\n",
       " [7, 8],\n",
       " [8, 7],\n",
       " [9, 6]]"
      ]
     },
     "execution_count": 199,
     "metadata": {},
     "output_type": "execute_result"
    }
   ],
   "source": [
    "t_1=10\n",
    "t_2=15\n",
    "my_int(t_1, t_2)\n",
    "#np.mean(my_int(t_1, t_2))"
   ]
  },
  {
   "cell_type": "code",
   "execution_count": 172,
   "metadata": {},
   "outputs": [
    {
     "data": {
      "text/plain": [
       "[[6, 1], [1, 6], [2, 5], [3, 4], [4, 3], [5, 2]]"
      ]
     },
     "execution_count": 172,
     "metadata": {},
     "output_type": "execute_result"
    }
   ],
   "source": [
    "l_all"
   ]
  },
  {
   "cell_type": "code",
   "execution_count": 162,
   "metadata": {},
   "outputs": [
    {
     "data": {
      "text/plain": [
       "[6]"
      ]
     },
     "execution_count": 162,
     "metadata": {},
     "output_type": "execute_result"
    }
   ],
   "source": [
    "[t_1]*  int((t_2-k)//t_1) if int((t_2-k)//t_1)>0 else [t_2-k]"
   ]
  },
  {
   "cell_type": "code",
   "execution_count": 183,
   "metadata": {},
   "outputs": [],
   "source": [
    "def my_int(t_1=5, t_2=9):\n",
    "    l_all=[]\n",
    "    n=min(t_1, t_2)\n",
    "    l=[]\n",
    "    for i in range(n):\n",
    "        l=[]\n",
    "        k=t_1 if i<1 else i\n",
    "        l.extend([k])\n",
    "        l.extend([t_1]*  int((t_2-k)//t_1) if int((t_2-k)//t_1)>0 else [t_2-k])\n",
    "        if t_2 - sum(l)>0:\n",
    "            l.extend([t_2 - k - sum(np.asarray([t_1]*  int((t_2-k)//t_1))) if int((t_2-k)//t_1)>0 else t_2-k])\n",
    "        l_all.append(l)    \n",
    "\n",
    "    return l_all\n"
   ]
  },
  {
   "cell_type": "code",
   "execution_count": 46,
   "metadata": {},
   "outputs": [
    {
     "data": {
      "text/plain": [
       "(6, 6, 2)"
      ]
     },
     "execution_count": 46,
     "metadata": {},
     "output_type": "execute_result"
    }
   ],
   "source": [
    "NOK=(t_1*t_2)/math.gcd(t_1,t_2)\n",
    "n_cycle=int(NOK/max(t_1,t_2))\n",
    "n_int=t_2//t_1+1\n",
    "n_cycle, n_k, n_int"
   ]
  },
  {
   "cell_type": "code",
   "execution_count": 31,
   "metadata": {},
   "outputs": [
    {
     "data": {
      "text/plain": [
       "2"
      ]
     },
     "execution_count": 31,
     "metadata": {},
     "output_type": "execute_result"
    }
   ],
   "source": [
    "while s0<"
   ]
  },
  {
   "cell_type": "code",
   "execution_count": 70,
   "metadata": {},
   "outputs": [
    {
     "data": {
      "text/plain": [
       "array([[6., 1.],\n",
       "       [0., 0.],\n",
       "       [0., 0.],\n",
       "       [0., 0.],\n",
       "       [0., 0.],\n",
       "       [0., 0.]])"
      ]
     },
     "execution_count": 70,
     "metadata": {},
     "output_type": "execute_result"
    }
   ],
   "source": [
    "l"
   ]
  },
  {
   "cell_type": "code",
   "execution_count": 69,
   "metadata": {},
   "outputs": [
    {
     "name": "stdout",
     "output_type": "stream",
     "text": [
      "6.0 6.0 0 0\n",
      "0\n",
      "7.0 1.0 0 1\n",
      "0.0\n",
      "7.0 0.0 1 0\n",
      "0.0\n",
      "7.0 0.0 1 1\n",
      "0.0\n",
      "7.0 0.0 2 0\n",
      "0.0\n",
      "7.0 0.0 2 1\n",
      "0.0\n",
      "7.0 0.0 3 0\n",
      "0.0\n",
      "7.0 0.0 3 1\n",
      "0.0\n",
      "7.0 0.0 4 0\n",
      "0.0\n",
      "7.0 0.0 4 1\n",
      "0.0\n",
      "7.0 0.0 5 0\n",
      "0.0\n",
      "7.0 0.0 5 1\n",
      "0.0\n"
     ]
    }
   ],
   "source": [
    "l=np.ones((n_cycle, n_int))\n",
    "s_0=0\n",
    "s_l=0\n",
    "for j in range(n_cycle):\n",
    "    \n",
    "        for i in range(n_int):\n",
    "            l[j,i]=(t_1-s_l) if (t_2-s_0)//t_1>0 else t_2-s_0\n",
    "            s_0 +=  l[j,i]\n",
    "            print (s_0, l[j,i], j,i)\n",
    "            s_l =  0 if (t_2-s_0)%t_1>0 else t_2-s_0\n",
    "            print (s_l)"
   ]
  },
  {
   "cell_type": "code",
   "execution_count": 4,
   "metadata": {},
   "outputs": [
    {
     "data": {
      "text/plain": [
       "4.0"
      ]
     },
     "execution_count": 4,
     "metadata": {},
     "output_type": "execute_result"
    }
   ],
   "source": [
    "t_1=3\n",
    "t_2=8\n",
    "fractions\n",
    "k=6 #observations\n",
    "\n",
    "l=[0]\n",
    "np.mean([(i+1, t_2-i-1) for i in range(t_2-1)]*10000)"
   ]
  }
 ],
 "metadata": {
  "kernelspec": {
   "display_name": "Python 3",
   "language": "python",
   "name": "python3"
  },
  "language_info": {
   "codemirror_mode": {
    "name": "ipython",
    "version": 3
   },
   "file_extension": ".py",
   "mimetype": "text/x-python",
   "name": "python",
   "nbconvert_exporter": "python",
   "pygments_lexer": "ipython3",
   "version": "3.6.1"
  }
 },
 "nbformat": 4,
 "nbformat_minor": 2
}
