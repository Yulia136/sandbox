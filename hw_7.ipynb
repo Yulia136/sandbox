{
 "cells": [
  {
   "cell_type": "markdown",
   "metadata": {},
   "source": [
    "1.1"
   ]
  },
  {
   "cell_type": "code",
   "execution_count": 159,
   "metadata": {},
   "outputs": [],
   "source": [
    "import pandas\n",
    "features = pandas.read_csv('./features.csv', index_col='match_id')\n",
    "\n",
    "\n",
    "\n",
    "cols_to_del=['duration','radiant_win','tower_status_radiant','tower_status_dire', 'barracks_status_radiant','barracks_status_dire']\n",
    "\n",
    "X=features.drop(cols_to_del, axis=1, inplace=False)\n",
    "target=features['radiant_win']"
   ]
  },
  {
   "cell_type": "markdown",
   "metadata": {},
   "source": [
    " 1.2 пропуски в данных встречаются в столбцах ниже. Столбцы с префиксом \"first_\" обозначают события которые должны произойти в первые 5 минут игры. \n",
    "Например поле first_blood_time означает что первая кровь была пролита спустя больше чем 5 минут\n",
    "Другие поля означают события которые могли не наступить по ходу игры. Например dire_bottle_time - время 1й покупки предммета  \n",
    "bottle командой dire. Пропуск означает что в ходе игры команда dire предмет bottle не купила"
   ]
  },
  {
   "cell_type": "code",
   "execution_count": 160,
   "metadata": {},
   "outputs": [
    {
     "data": {
      "text/plain": [
       "Index([u'first_blood_time', u'first_blood_team', u'first_blood_player1',\n",
       "       u'first_blood_player2', u'radiant_bottle_time', u'radiant_courier_time',\n",
       "       u'radiant_flying_courier_time', u'radiant_first_ward_time',\n",
       "       u'dire_bottle_time', u'dire_courier_time', u'dire_flying_courier_time',\n",
       "       u'dire_first_ward_time'],\n",
       "      dtype='object')"
      ]
     },
     "execution_count": 160,
     "metadata": {},
     "output_type": "execute_result"
    }
   ],
   "source": [
    "X.columns[X.count()!=X.shape[0]]\n"
   ]
  },
  {
   "cell_type": "markdown",
   "metadata": {},
   "source": [
    "1.3 "
   ]
  },
  {
   "cell_type": "code",
   "execution_count": 161,
   "metadata": {},
   "outputs": [],
   "source": [
    "X=X.fillna(0)"
   ]
  },
  {
   "cell_type": "markdown",
   "metadata": {},
   "source": [
    "1.4 Целевая переменная - столбец radiant_win"
   ]
  },
  {
   "cell_type": "code",
   "execution_count": 162,
   "metadata": {
    "collapsed": true
   },
   "outputs": [],
   "source": [
    "target=features['radiant_win']"
   ]
  },
  {
   "cell_type": "markdown",
   "metadata": {},
   "source": [
    "1.5"
   ]
  },
  {
   "cell_type": "code",
   "execution_count": 37,
   "metadata": {
    "collapsed": true
   },
   "outputs": [],
   "source": [
    "import time\n",
    "import datetime\n",
    "import sklearn\n",
    "from sklearn.ensemble import GradientBoostingClassifier\n",
    "from sklearn.metrics import roc_auc_score\n",
    "from sklearn.model_selection import KFold"
   ]
  },
  {
   "cell_type": "code",
   "execution_count": 163,
   "metadata": {},
   "outputs": [],
   "source": [
    "data=X\n",
    "data['y']=target\n"
   ]
  },
  {
   "cell_type": "code",
   "execution_count": 165,
   "metadata": {},
   "outputs": [
    {
     "name": "stdout",
     "output_type": "stream",
     "text": [
      "Time elapsed: 0:01:44.396111, n=250, roc_auc=0.65446686537, i=0\n",
      "Time elapsed: 0:01:50.725687, n=250, roc_auc=0.646660490922, i=1\n",
      "Time elapsed: 0:01:52.642778, n=250, roc_auc=0.657372297768, i=2\n",
      "Time elapsed: 0:01:45.753377, n=250, roc_auc=0.648240772688, i=3\n",
      "Time elapsed: 0:01:50.571482, n=250, roc_auc=0.654289639043, i=4\n",
      "Time elapsed: 0:09:04.100023, n=250, roc_auc_avg=0.652206013158\n"
     ]
    }
   ],
   "source": [
    "\n",
    "n_all=[250]#[10,100,200,300]\n",
    "for n_val in n_all:\n",
    "        i=0\n",
    "        n=n_val\n",
    "        my_max_depth=3\n",
    "        my_n_splits=5\n",
    "        my_shuffle=True\n",
    "        my_random_state=17\n",
    "        kf = KFold(n_splits=my_n_splits\n",
    "                  ,shuffle=my_shuffle\n",
    "                  ,random_state=my_random_state)\n",
    "        auc_all=0\n",
    "        start_time0 = datetime.datetime.now()\n",
    "        for train, test in kf.split(data):\n",
    "            start_time = datetime.datetime.now()\n",
    "            train_data = data.iloc[train]\n",
    "            test_data = data.iloc[test]\n",
    "            X_train, target_train=train_data[train_data.columns[train_data.columns!='y']], train_data['y']    \n",
    "            X_test, target_test=test_data[test_data.columns[test_data.columns!='y']], test_data['y']\n",
    "            model=GradientBoostingClassifier(n_estimators=n\n",
    "                                        ,max_depth=my_max_depth\n",
    "                                        ,random_state=my_random_state)\n",
    "            model.fit(X_train,target_train)\n",
    "            target_predicted=model.predict(X_test)\n",
    "            my_roc_auc_score=roc_auc_score(target_test, target_predicted)\n",
    "            my_str='Time elapsed: '+ str(datetime.datetime.now() - start_time)+str(', n=')+str(n)+str(', roc_auc=')+str(my_roc_auc_score)+str(', i=')+str(i)\n",
    "            i += 1\n",
    "            auc_all += my_roc_auc_score\n",
    "            print my_str\n",
    "\n",
    "        my_str_result= 'Time elapsed: '+ str(datetime.datetime.now() - start_time0)+str(', n=')+str(n)+str(', roc_auc_avg=')+str(auc_all*1.0/max(i,1))\n",
    "        print my_str_result"
   ]
  },
  {
   "cell_type": "markdown",
   "metadata": {},
   "source": [
    "2.1"
   ]
  },
  {
   "cell_type": "code",
   "execution_count": 82,
   "metadata": {
    "collapsed": true
   },
   "outputs": [],
   "source": [
    "from sklearn.linear_model import LogisticRegression"
   ]
  },
  {
   "cell_type": "code",
   "execution_count": 148,
   "metadata": {},
   "outputs": [],
   "source": [
    "import pandas as pd\n",
    "from sklearn.preprocessing import StandardScaler\n",
    "scaler = StandardScaler()\n",
    "X_scaled = pd.DataFrame(scaler.fit_transform(X))\n",
    "X_scaled.columns=X.columns"
   ]
  },
  {
   "cell_type": "code",
   "execution_count": 154,
   "metadata": {},
   "outputs": [],
   "source": [
    "data=X_scaled\n",
    "data['y']=target\n",
    "data=data.fillna(0)"
   ]
  },
  {
   "cell_type": "code",
   "execution_count": 156,
   "metadata": {
    "scrolled": true
   },
   "outputs": [
    {
     "name": "stdout",
     "output_type": "stream",
     "text": [
      "Time elapsed: 0:00:01.413394, n=1e-05, roc_auc=0.499770172275, i=0\n",
      "Time elapsed: 0:00:01.505085, n=1e-05, roc_auc=0.500054106602, i=1\n",
      "Time elapsed: 0:00:00.631471, n=1e-05, roc_auc=0.500320591476, i=2\n",
      "Time elapsed: 0:00:00.631940, n=1e-05, roc_auc=0.500424330738, i=3\n",
      "Time elapsed: 0:00:00.632734, n=1e-05, roc_auc=0.500103335875, i=4\n",
      "Time elapsed: 0:00:04.825893, n=1e-05, roc_auc_avg=0.500134507393\n",
      "Time elapsed: 0:00:00.917868, n=0.0001, roc_auc=0.500097855958, i=0\n",
      "Time elapsed: 0:00:00.917305, n=0.0001, roc_auc=0.499824250276, i=1\n",
      "Time elapsed: 0:00:00.918626, n=0.0001, roc_auc=0.500187961894, i=2\n",
      "Time elapsed: 0:00:00.913119, n=0.0001, roc_auc=0.500134611714, i=3\n",
      "Time elapsed: 0:00:00.917022, n=0.0001, roc_auc=0.499954466806, i=4\n",
      "Time elapsed: 0:00:04.594348, n=0.0001, roc_auc_avg=0.50003982933\n",
      "Time elapsed: 0:00:01.530019, n=0.001, roc_auc=0.500149991361, i=0\n",
      "Time elapsed: 0:00:01.455786, n=0.001, roc_auc=0.499648500552, i=1\n",
      "Time elapsed: 0:00:01.577238, n=0.001, roc_auc=0.500247245745, i=2\n",
      "Time elapsed: 0:00:01.641446, n=0.001, roc_auc=0.500164834396, i=3\n",
      "Time elapsed: 0:00:01.653972, n=0.001, roc_auc=0.500072600297, i=4\n",
      "Time elapsed: 0:00:07.868746, n=0.001, roc_auc_avg=0.50005663447\n",
      "Time elapsed: 0:00:01.971760, n=0.01, roc_auc=0.500234609311, i=0\n",
      "Time elapsed: 0:00:02.120290, n=0.01, roc_auc=0.499610516299, i=1\n",
      "Time elapsed: 0:00:02.021593, n=0.01, roc_auc=0.50028888226, i=2\n",
      "Time elapsed: 0:00:02.130549, n=0.01, roc_auc=0.499848714813, i=3\n",
      "Time elapsed: 0:00:02.080554, n=0.01, roc_auc=0.500008601013, i=4\n",
      "Time elapsed: 0:00:10.335826, n=0.01, roc_auc_avg=0.499998264739\n",
      "Time elapsed: 0:00:02.042606, n=0.1, roc_auc=0.500123515344, i=0\n",
      "Time elapsed: 0:00:02.789889, n=0.1, roc_auc=0.499617465031, i=1\n",
      "Time elapsed: 0:00:02.142858, n=0.1, roc_auc=0.500526017664, i=2\n",
      "Time elapsed: 0:00:02.123608, n=0.1, roc_auc=0.499769684918, i=3\n",
      "Time elapsed: 0:00:02.206092, n=0.1, roc_auc=0.499944601729, i=4\n",
      "Time elapsed: 0:00:11.315599, n=0.1, roc_auc_avg=0.499996256937\n",
      "Time elapsed: 0:00:02.093735, n=1, roc_auc=0.500123515344, i=0\n",
      "Time elapsed: 0:00:02.804282, n=1, roc_auc=0.499571790417, i=1\n",
      "Time elapsed: 0:00:02.290928, n=1, roc_auc=0.500526017664, i=2\n",
      "Time elapsed: 0:00:02.102395, n=1, roc_auc=0.499769684918, i=3\n",
      "Time elapsed: 0:00:01.860503, n=1, roc_auc=0.499899068536, i=4\n",
      "Time elapsed: 0:00:11.162075, n=1, roc_auc_avg=0.499978015376\n",
      "Time elapsed: 0:00:01.842701, n=10, roc_auc=0.500123515344, i=0\n",
      "Time elapsed: 0:00:02.308441, n=10, roc_auc=0.499571790417, i=1\n",
      "Time elapsed: 0:00:01.765223, n=10, roc_auc=0.500526017664, i=2\n",
      "Time elapsed: 0:00:01.980066, n=10, roc_auc=0.499769684918, i=3\n",
      "Time elapsed: 0:00:01.985294, n=10, roc_auc=0.499899068536, i=4\n",
      "Time elapsed: 0:00:09.890644, n=10, roc_auc_avg=0.499978015376\n",
      "Time elapsed: 0:00:01.908702, n=100, roc_auc=0.500123515344, i=0\n",
      "Time elapsed: 0:00:03.135397, n=100, roc_auc=0.499571790417, i=1\n",
      "Time elapsed: 0:00:02.156368, n=100, roc_auc=0.500526017664, i=2\n",
      "Time elapsed: 0:00:02.317693, n=100, roc_auc=0.499769684918, i=3\n",
      "Time elapsed: 0:00:02.404061, n=100, roc_auc=0.499899068536, i=4\n",
      "Time elapsed: 0:00:11.931432, n=100, roc_auc_avg=0.499978015376\n",
      "Time elapsed: 0:00:02.370923, n=1000, roc_auc=0.500123515344, i=0\n",
      "Time elapsed: 0:00:02.993249, n=1000, roc_auc=0.499571790417, i=1\n",
      "Time elapsed: 0:00:02.402069, n=1000, roc_auc=0.500526017664, i=2\n",
      "Time elapsed: 0:00:02.212197, n=1000, roc_auc=0.499769684918, i=3\n",
      "Time elapsed: 0:00:02.209515, n=1000, roc_auc=0.499899068536, i=4\n",
      "Time elapsed: 0:00:12.199767, n=1000, roc_auc_avg=0.499978015376\n",
      "Time elapsed: 0:00:02.104396, n=10000, roc_auc=0.500123515344, i=0\n",
      "Time elapsed: 0:00:02.808989, n=10000, roc_auc=0.499571790417, i=1\n",
      "Time elapsed: 0:00:01.867654, n=10000, roc_auc=0.500526017664, i=2\n",
      "Time elapsed: 0:00:02.273918, n=10000, roc_auc=0.499769684918, i=3\n",
      "Time elapsed: 0:00:02.211983, n=10000, roc_auc=0.499899068536, i=4\n",
      "Time elapsed: 0:00:11.277967, n=10000, roc_auc_avg=0.499978015376\n"
     ]
    }
   ],
   "source": [
    "C_vals=[10**i for i in range(-5,5)]\n",
    "\n",
    "for c in C_vals:\n",
    "        i=0\n",
    "        n=c\n",
    "        #my_max_depth=3\n",
    "        my_n_splits=5\n",
    "        my_shuffle=True\n",
    "        my_random_state=17\n",
    "        kf = KFold(n_splits=my_n_splits\n",
    "                  ,shuffle=my_shuffle\n",
    "                  ,random_state=my_random_state)\n",
    "        auc_all=0\n",
    "        start_time0 = datetime.datetime.now()\n",
    "        for train, test in kf.split(data):\n",
    "            start_time = datetime.datetime.now()\n",
    "            train_data = data.iloc[train]\n",
    "            test_data = data.iloc[test]\n",
    "            X_train, target_train=train_data[train_data.columns[train_data.columns!='y']], train_data['y']    \n",
    "            X_test, target_test=test_data[test_data.columns[test_data.columns!='y']], test_data['y']\n",
    "            model=LogisticRegression(C=n\n",
    "                                  ,random_state=my_random_state)\n",
    "            model.fit(X_train,target_train)\n",
    "            target_predicted=model.predict(X_test)\n",
    "            my_roc_auc_score=roc_auc_score(target_test, target_predicted)\n",
    "            my_str='Time elapsed: '+ str(datetime.datetime.now() - start_time)+str(', n=')+str(n)+str(', roc_auc=')+str(my_roc_auc_score)+str(', i=')+str(i)\n",
    "            i += 1\n",
    "            auc_all += my_roc_auc_score\n",
    "            print my_str\n",
    "\n",
    "        my_str_result= 'Time elapsed: '+ str(datetime.datetime.now() - start_time0)+str(', n=')+str(n)+str(', roc_auc_avg=')+str(auc_all*1.0/max(i,1))\n",
    "        print my_str_result"
   ]
  },
  {
   "cell_type": "markdown",
   "metadata": {},
   "source": [
    "2.2"
   ]
  },
  {
   "cell_type": "code",
   "execution_count": 90,
   "metadata": {},
   "outputs": [
    {
     "data": {
      "text/plain": [
       "92"
      ]
     },
     "execution_count": 90,
     "metadata": {},
     "output_type": "execute_result"
    }
   ],
   "source": [
    "len(data.columns)\n"
   ]
  },
  {
   "cell_type": "code",
   "execution_count": 122,
   "metadata": {},
   "outputs": [
    {
     "name": "stdout",
     "output_type": "stream",
     "text": [
      "Time elapsed: 0:00:00.357561, n=0.01, roc_auc=0.5, i=0\n",
      "Time elapsed: 0:00:00.323441, n=0.01, roc_auc=0.5, i=1\n",
      "Time elapsed: 0:00:00.322493, n=0.01, roc_auc=0.5, i=2\n",
      "Time elapsed: 0:00:00.300514, n=0.01, roc_auc=0.5, i=3\n",
      "Time elapsed: 0:00:00.322814, n=0.01, roc_auc=0.5, i=4\n",
      "Time elapsed: 0:00:01.639586, n=0.01, roc_auc_avg=0.5\n",
      "Time elapsed: 0:00:00.343396, n=0.05, roc_auc=0.5, i=0\n",
      "Time elapsed: 0:00:00.376402, n=0.05, roc_auc=0.5, i=1\n",
      "Time elapsed: 0:00:00.415677, n=0.05, roc_auc=0.5, i=2\n",
      "Time elapsed: 0:00:00.398639, n=0.05, roc_auc=0.5, i=3\n",
      "Time elapsed: 0:00:00.386866, n=0.05, roc_auc=0.5, i=4\n",
      "Time elapsed: 0:00:01.932113, n=0.05, roc_auc_avg=0.5\n",
      "Time elapsed: 0:00:00.374105, n=0.1, roc_auc=0.5, i=0\n",
      "Time elapsed: 0:00:00.392856, n=0.1, roc_auc=0.5, i=1\n",
      "Time elapsed: 0:00:00.347520, n=0.1, roc_auc=0.5, i=2\n",
      "Time elapsed: 0:00:00.363928, n=0.1, roc_auc=0.5, i=3\n",
      "Time elapsed: 0:00:00.363321, n=0.1, roc_auc=0.5, i=4\n",
      "Time elapsed: 0:00:01.852130, n=0.1, roc_auc_avg=0.5\n",
      "Time elapsed: 0:00:00.378282, n=0.5, roc_auc=0.5, i=0\n",
      "Time elapsed: 0:00:00.379218, n=0.5, roc_auc=0.5, i=1\n",
      "Time elapsed: 0:00:00.322937, n=0.5, roc_auc=0.5, i=2\n",
      "Time elapsed: 0:00:00.320873, n=0.5, roc_auc=0.5, i=3\n",
      "Time elapsed: 0:00:00.323979, n=0.5, roc_auc=0.5, i=4\n",
      "Time elapsed: 0:00:01.735283, n=0.5, roc_auc_avg=0.5\n",
      "Time elapsed: 0:00:00.326741, n=1, roc_auc=0.5, i=0\n",
      "Time elapsed: 0:00:00.381305, n=1, roc_auc=0.5, i=1\n",
      "Time elapsed: 0:00:00.343023, n=1, roc_auc=0.5, i=2\n",
      "Time elapsed: 0:00:00.309571, n=1, roc_auc=0.5, i=3\n",
      "Time elapsed: 0:00:00.308846, n=1, roc_auc=0.5, i=4\n",
      "Time elapsed: 0:00:01.678768, n=1, roc_auc_avg=0.5\n",
      "Time elapsed: 0:00:00.309679, n=5, roc_auc=0.5, i=0\n",
      "Time elapsed: 0:00:00.342051, n=5, roc_auc=0.5, i=1\n",
      "Time elapsed: 0:00:00.340210, n=5, roc_auc=0.5, i=2\n",
      "Time elapsed: 0:00:00.340218, n=5, roc_auc=0.5, i=3\n",
      "Time elapsed: 0:00:00.341504, n=5, roc_auc=0.5, i=4\n",
      "Time elapsed: 0:00:01.683193, n=5, roc_auc_avg=0.5\n",
      "Time elapsed: 0:00:00.338620, n=10, roc_auc=0.5, i=0\n",
      "Time elapsed: 0:00:00.343183, n=10, roc_auc=0.5, i=1\n",
      "Time elapsed: 0:00:00.339825, n=10, roc_auc=0.5, i=2\n",
      "Time elapsed: 0:00:00.345613, n=10, roc_auc=0.5, i=3\n",
      "Time elapsed: 0:00:00.331083, n=10, roc_auc=0.5, i=4\n",
      "Time elapsed: 0:00:01.708674, n=10, roc_auc_avg=0.5\n",
      "Time elapsed: 0:00:00.326263, n=15, roc_auc=0.5, i=0\n",
      "Time elapsed: 0:00:00.334290, n=15, roc_auc=0.5, i=1\n",
      "Time elapsed: 0:00:00.337880, n=15, roc_auc=0.5, i=2\n",
      "Time elapsed: 0:00:00.349631, n=15, roc_auc=0.5, i=3\n",
      "Time elapsed: 0:00:00.343794, n=15, roc_auc=0.5, i=4\n",
      "Time elapsed: 0:00:01.702334, n=15, roc_auc_avg=0.5\n"
     ]
    }
   ],
   "source": [
    "cols_2_del=['lobby_type','r1_hero','r2_hero','r3_hero','r4_hero','r5_hero','d1_hero','d2_hero','d3_hero','d4_hero','d5_hero']\n",
    "data2=data.drop(cols_2_del, axis=1)\n",
    "\n",
    "C_vals=[0.01 , 0.05, 0.1, 0.5, 1, 5, 10, 15]\n",
    "\n",
    "for c in C_vals:\n",
    "        i=0\n",
    "        n=c\n",
    "        #my_max_depth=3\n",
    "        my_n_splits=5\n",
    "        my_shuffle=True\n",
    "        my_random_state=17\n",
    "        kf = KFold(n_splits=my_n_splits\n",
    "                  ,shuffle=my_shuffle\n",
    "                  ,random_state=my_random_state)\n",
    "        auc_all=0\n",
    "        start_time0 = datetime.datetime.now()\n",
    "        for train, test in kf.split(data2):\n",
    "            start_time = datetime.datetime.now()\n",
    "            train_data = data2.iloc[train]\n",
    "            test_data = data2.iloc[test]\n",
    "            X_train, target_train=train_data[train_data.columns[train_data.columns!='y']], train_data['y']    \n",
    "            X_test, target_test=test_data[test_data.columns[test_data.columns!='y']], test_data['y']\n",
    "            model=LogisticRegression(C=n\n",
    "                                  ,random_state=my_random_state)\n",
    "            model.fit(X_train,target_train)\n",
    "            target_predicted=model.predict(X_test)\n",
    "            my_roc_auc_score=roc_auc_score(target_test, target_predicted)\n",
    "            my_str='Time elapsed: '+ str(datetime.datetime.now() - start_time)+str(', n=')+str(n)+str(', roc_auc=')+str(my_roc_auc_score)+str(', i=')+str(i)\n",
    "            i += 1\n",
    "            auc_all += my_roc_auc_score\n",
    "            print my_str\n",
    "\n",
    "        my_str_result= 'Time elapsed: '+ str(datetime.datetime.now() - start_time0)+str(', n=')+str(n)+str(', roc_auc_avg=')+str(auc_all*1.0/max(i,1))\n",
    "        print my_str_result"
   ]
  },
  {
   "cell_type": "code",
   "execution_count": 133,
   "metadata": {},
   "outputs": [
    {
     "data": {
      "text/plain": [
       "match_id\n",
       "139    20\n",
       "142    34\n",
       "Name: r1_hero, dtype: int64"
      ]
     },
     "execution_count": 133,
     "metadata": {},
     "output_type": "execute_result"
    }
   ],
   "source": [
    "data['r1_hero'][110:112]"
   ]
  },
  {
   "cell_type": "code",
   "execution_count": 131,
   "metadata": {},
   "outputs": [
    {
     "data": {
      "text/plain": [
       "11"
      ]
     },
     "execution_count": 131,
     "metadata": {},
     "output_type": "execute_result"
    }
   ],
   "source": [
    "data.ix[0, 'r1_hero']"
   ]
  },
  {
   "cell_type": "code",
   "execution_count": 127,
   "metadata": {},
   "outputs": [
    {
     "data": {
      "text/plain": [
       "108"
      ]
     },
     "execution_count": 127,
     "metadata": {},
     "output_type": "execute_result"
    }
   ],
   "source": [
    "len(np.unique(data['r1_hero'].append(data['d1_hero'])))"
   ]
  },
  {
   "cell_type": "code",
   "execution_count": 129,
   "metadata": {},
   "outputs": [
    {
     "name": "stdout",
     "output_type": "stream",
     "text": [
      "0 0 10 0 r1_hero 0\n",
      "1 0 66 0 r2_hero 0\n",
      "2 0 28 0 r3_hero 0\n",
      "3 0 19 0 r4_hero 0\n",
      "4 0 104 0 r5_hero 0\n",
      "0 1 41 1 r1_hero 1\n",
      "1 1 48 1 r2_hero 1\n",
      "2 1 66 1 r3_hero 1\n",
      "3 1 36 1 r4_hero 1\n",
      "4 1 25 1 r5_hero 1\n",
      "0 2 32 2 r1_hero 2\n",
      "1 2 97 2 r2_hero 2\n",
      "2 2 19 2 r3_hero 2\n",
      "3 2 26 2 r4_hero 2\n",
      "4 2 3 2 r5_hero 2\n",
      "0 3 28 3 r1_hero 3\n",
      "1 3 29 3 r2_hero 3\n",
      "2 3 74 3 r3_hero 3\n",
      "3 3 36 3 r4_hero 3\n",
      "4 3 40 3 r5_hero 3\n",
      "0 4 12 4 r1_hero 4\n",
      "1 4 26 4 r2_hero 4\n",
      "2 4 29 4 r3_hero 4\n",
      "3 4 71 4 r4_hero 4\n",
      "4 4 92 4 r5_hero 4\n",
      "0 5 10 5 r1_hero 5\n",
      "1 5 19 5 r2_hero 5\n",
      "2 5 27 5 r3_hero 5\n",
      "3 5 24 5 r4_hero 5\n",
      "4 5 64 5 r5_hero 5\n",
      "0 6 7 8 r1_hero 8\n",
      "1 6 56 8 r2_hero 8\n",
      "2 6 6 8 r3_hero 8\n",
      "3 6 20 8 r4_hero 8\n",
      "4 6 35 8 r5_hero 8\n",
      "0 7 34 9 r1_hero 9\n",
      "1 7 14 9 r2_hero 9\n",
      "2 7 82 9 r3_hero 9\n",
      "3 7 28 9 r4_hero 9\n",
      "4 7 100 9 r5_hero 9\n",
      "0 8 16 11 r1_hero 11\n",
      "1 8 90 11 r2_hero 11\n",
      "2 8 52 11 r3_hero 11\n",
      "3 8 71 11 r4_hero 11\n",
      "4 8 29 11 r5_hero 11\n",
      "0 9 14 12 r1_hero 12\n",
      "1 9 40 12 r2_hero 12\n",
      "2 9 73 12 r3_hero 12\n",
      "3 9 89 12 r4_hero 12\n",
      "4 9 41 12 r5_hero 12\n",
      "0 10 21 14 r1_hero 14\n",
      "1 10 24 14 r2_hero 14\n",
      "2 10 0 14 r3_hero 14\n",
      "3 10 95 14 r4_hero 14\n",
      "4 10 78 14 r5_hero 14\n",
      "0 11 26 15 r1_hero 15\n",
      "1 11 51 15 r2_hero 15\n",
      "2 11 81 15 r3_hero 15\n",
      "3 11 59 15 r4_hero 15\n",
      "4 11 111 15 r5_hero 15\n"
     ]
    },
    {
     "ename": "IndexError",
     "evalue": "index 111 is out of bounds for axis 1 with size 108",
     "output_type": "error",
     "traceback": [
      "\u001b[0;31m---------------------------------------------------------------------------\u001b[0m",
      "\u001b[0;31mIndexError\u001b[0m                                Traceback (most recent call last)",
      "\u001b[0;32m<ipython-input-129-15ecea6fcd9c>\u001b[0m in \u001b[0;36m<module>\u001b[0;34m()\u001b[0m\n\u001b[1;32m     10\u001b[0m     \u001b[0;32mfor\u001b[0m \u001b[0mp\u001b[0m \u001b[0;32min\u001b[0m \u001b[0mxrange\u001b[0m\u001b[0;34m(\u001b[0m\u001b[0;36m5\u001b[0m\u001b[0;34m)\u001b[0m\u001b[0;34m:\u001b[0m\u001b[0;34m\u001b[0m\u001b[0m\n\u001b[1;32m     11\u001b[0m         \u001b[0;32mprint\u001b[0m \u001b[0mp\u001b[0m\u001b[0;34m,\u001b[0m \u001b[0mi\u001b[0m\u001b[0;34m,\u001b[0m \u001b[0mdata\u001b[0m\u001b[0;34m.\u001b[0m\u001b[0mix\u001b[0m\u001b[0;34m[\u001b[0m\u001b[0mmatch_id\u001b[0m\u001b[0;34m,\u001b[0m \u001b[0;34m'r%d_hero'\u001b[0m \u001b[0;34m%\u001b[0m \u001b[0;34m(\u001b[0m\u001b[0mp\u001b[0m\u001b[0;34m+\u001b[0m\u001b[0;36m1\u001b[0m\u001b[0;34m)\u001b[0m\u001b[0;34m]\u001b[0m\u001b[0;34m-\u001b[0m\u001b[0;36m1\u001b[0m\u001b[0;34m,\u001b[0m \u001b[0mmatch_id\u001b[0m\u001b[0;34m,\u001b[0m \u001b[0;34m'r%d_hero'\u001b[0m \u001b[0;34m%\u001b[0m \u001b[0;34m(\u001b[0m\u001b[0mp\u001b[0m\u001b[0;34m+\u001b[0m\u001b[0;36m1\u001b[0m\u001b[0;34m)\u001b[0m\u001b[0;34m,\u001b[0m \u001b[0mmatch_id\u001b[0m\u001b[0;34m\u001b[0m\u001b[0m\n\u001b[0;32m---> 12\u001b[0;31m         \u001b[0mX_pick\u001b[0m\u001b[0;34m[\u001b[0m\u001b[0mi\u001b[0m\u001b[0;34m,\u001b[0m \u001b[0mdata\u001b[0m\u001b[0;34m.\u001b[0m\u001b[0mix\u001b[0m\u001b[0;34m[\u001b[0m\u001b[0mmatch_id\u001b[0m\u001b[0;34m,\u001b[0m \u001b[0;34m'r%d_hero'\u001b[0m \u001b[0;34m%\u001b[0m \u001b[0;34m(\u001b[0m\u001b[0mp\u001b[0m\u001b[0;34m+\u001b[0m\u001b[0;36m1\u001b[0m\u001b[0;34m)\u001b[0m\u001b[0;34m]\u001b[0m\u001b[0;34m-\u001b[0m\u001b[0;36m1\u001b[0m\u001b[0;34m]\u001b[0m \u001b[0;34m=\u001b[0m \u001b[0;36m1\u001b[0m\u001b[0;34m\u001b[0m\u001b[0m\n\u001b[0m\u001b[1;32m     13\u001b[0m         \u001b[0mX_pick\u001b[0m\u001b[0;34m[\u001b[0m\u001b[0mi\u001b[0m\u001b[0;34m,\u001b[0m \u001b[0mdata\u001b[0m\u001b[0;34m.\u001b[0m\u001b[0mix\u001b[0m\u001b[0;34m[\u001b[0m\u001b[0mmatch_id\u001b[0m\u001b[0;34m,\u001b[0m \u001b[0;34m'd%d_hero'\u001b[0m \u001b[0;34m%\u001b[0m \u001b[0;34m(\u001b[0m\u001b[0mp\u001b[0m\u001b[0;34m+\u001b[0m\u001b[0;36m1\u001b[0m\u001b[0;34m)\u001b[0m\u001b[0;34m]\u001b[0m\u001b[0;34m-\u001b[0m\u001b[0;36m1\u001b[0m\u001b[0;34m]\u001b[0m \u001b[0;34m=\u001b[0m \u001b[0;34m-\u001b[0m\u001b[0;36m1\u001b[0m\u001b[0;34m\u001b[0m\u001b[0m\n\u001b[1;32m     14\u001b[0m \u001b[0;34m\u001b[0m\u001b[0m\n",
      "\u001b[0;31mIndexError\u001b[0m: index 111 is out of bounds for axis 1 with size 108"
     ]
    }
   ],
   "source": [
    "import numpy as np\n",
    "#np.unique(data['r1_hero'], return_counts=True)\n",
    "len(np.unique(data['r1_hero'])), len(np.unique(data['d1_hero']))\n",
    "\n",
    "\n",
    "N=len(np.unique(data['d1_hero']))\n",
    "X_pick = np.zeros((data.shape[0], N))\n",
    "\n",
    "for i, match_id in enumerate(data.index):\n",
    "    for p in xrange(5):\n",
    "        print p, i, data.ix[match_id, 'r%d_hero' % (p+1)]-1, match_id, 'r%d_hero' % (p+1), match_id\n",
    "        X_pick[i, data.ix[match_id, 'r%d_hero' % (p+1)]-1] = 1\n",
    "        X_pick[i, data.ix[match_id, 'd%d_hero' % (p+1)]-1] = -1\n",
    "        "
   ]
  }
 ],
 "metadata": {
  "kernelspec": {
   "display_name": "Python 3",
   "language": "python",
   "name": "python3"
  },
  "language_info": {
   "codemirror_mode": {
    "name": "ipython",
    "version": 2
   },
   "file_extension": ".py",
   "mimetype": "text/x-python",
   "name": "python",
   "nbconvert_exporter": "python",
   "pygments_lexer": "ipython2",
   "version": "2.7.13"
  }
 },
 "nbformat": 4,
 "nbformat_minor": 2
}
